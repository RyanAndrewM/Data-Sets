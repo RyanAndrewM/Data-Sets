{
 "cells": [
  {
   "cell_type": "code",
   "execution_count": 31,
   "metadata": {},
   "outputs": [],
   "source": [
    "import pandas as pd\n",
    "url= \"https://raw.githubusercontent.com/RyanAndrewM/Data-Sets/main/DOGE-USD.csv\"\n",
    "data = pd.read_csv(url)"
   ]
  },
  {
   "cell_type": "code",
   "execution_count": 32,
   "metadata": {},
   "outputs": [
    {
     "name": "stdout",
     "output_type": "stream",
     "text": [
      "          Date      Open      High       Low     Close  Adj Close     Volume\n",
      "0   2014-09-17  0.000293  0.000299  0.000260  0.000268   0.000268  1463600.0\n",
      "1   2014-09-18  0.000268  0.000325  0.000267  0.000298   0.000298  2215910.0\n",
      "2   2014-09-19  0.000298  0.000307  0.000275  0.000277   0.000277   883563.0\n",
      "3   2014-09-20  0.000276  0.000310  0.000267  0.000292   0.000292   993004.0\n",
      "4   2014-09-21  0.000293  0.000299  0.000284  0.000288   0.000288   539140.0\n",
      "5   2014-09-22  0.000288  0.000301  0.000285  0.000298   0.000298   620222.0\n",
      "6   2014-09-23  0.000298  0.000318  0.000295  0.000313   0.000313   739197.0\n",
      "7   2014-09-24  0.000314  0.000353  0.000310  0.000348   0.000348  1277840.0\n",
      "8   2014-09-25  0.000347  0.000383  0.000332  0.000375   0.000375  2393610.0\n",
      "9   2014-09-26  0.000374  0.000467  0.000373  0.000451   0.000451  4722610.0\n",
      "10  2014-09-27  0.000450  0.000452  0.000359  0.000375   0.000375  2907080.0\n",
      "11  2014-09-28  0.000376  0.000414  0.000376  0.000392   0.000392  2115710.0\n",
      "12  2014-09-29  0.000394  0.000401  0.000378  0.000396   0.000396  1169070.0\n",
      "13  2014-09-30  0.000397  0.000408  0.000386  0.000399   0.000399   760341.0\n",
      "14  2014-10-01  0.000400  0.000406  0.000371  0.000371   0.000371  1031360.0\n"
     ]
    }
   ],
   "source": [
    "print(data.head(15))"
   ]
  },
  {
   "cell_type": "code",
   "execution_count": null,
   "metadata": {},
   "outputs": [],
   "source": []
  }
 ],
 "metadata": {
  "kernelspec": {
   "display_name": "Python 3",
   "language": "python",
   "name": "python3"
  },
  "language_info": {
   "codemirror_mode": {
    "name": "ipython",
    "version": 3
   },
   "file_extension": ".py",
   "mimetype": "text/x-python",
   "name": "python",
   "nbconvert_exporter": "python",
   "pygments_lexer": "ipython3",
   "version": "3.6.13"
  }
 },
 "nbformat": 4,
 "nbformat_minor": 2
}
